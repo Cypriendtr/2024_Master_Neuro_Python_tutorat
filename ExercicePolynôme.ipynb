{
 "cells": [
  {
   "cell_type": "markdown",
   "id": "5f78ff0f",
   "metadata": {},
   "source": [
    "# **Tutorat Python : Application des notions**\n",
    "_par Cyprien et Alexandre_"
   ]
  },
  {
   "cell_type": "markdown",
   "id": "629661ac",
   "metadata": {},
   "source": [
    "Cet exercice a pour objectif de revoir les différentes notions qu'on a vu ensemble pendant les premières scéances. L'objectif est qu'avec cette feuille, vous puissiez avancer seul et mettre en pratique tout ce qu'on a vu jusque là. Vous pouvez, si vous en avez le besoin, nous demander des indices ou de l'aide afin de ne pas rester bloquer trop longtemps à un endroit.\n",
    "\n",
    "PS : Je n'ai absolument pas évalué le temps nécessaire pour faire la feuille en entière, mais le top serait que ca ne dure pas plus de 20-30min."
   ]
  },
  {
   "cell_type": "markdown",
   "id": "21d84680",
   "metadata": {},
   "source": [
    "## Eléments de départ :"
   ]
  },
  {
   "cell_type": "markdown",
   "id": "a112ed22",
   "metadata": {},
   "source": [
    "Dans ce déroulé, nous allons chercher de façon numérique les solutions de l'équation suivante : \n",
    "$$ - x^2 + 8x + 1 = 0 $$\n",
    "\n",
    "Comme vous l'avez devinez, il s'agit bien de l'équation d'un polynôme du second degré de forme : \n",
    "$$ ax^2 + bx + c = 0 $$\n",
    "\n",
    "Pour que l'on parte tous du même pieds, et parce que le sujet du tutorat est le langage python et non pas les mathématiques, je vous donne quelques rappels pour la résolution d'un polynôme du second degré. Dans un premier temps, il est nécessaire de calculer le discriminant noté $\\Delta$ donc la formule est la suivante :\n",
    "$$ \\Delta = b^2 - 4 * a * c $$\n",
    "\n",
    "Une fois qu'on connait le discriminant, il y a trois possibilitées :\n",
    "- Si $ \\Delta > 0 $ : il existe deux solutions dans les réels. ($1$)\n",
    "- Si $ \\Delta = 0 $ : il n'existe qu'une seule solution dans les réels. ($2$)\n",
    "- Si $ \\Delta < 0 $ : il n'existe pas de solutions dans les réels.\n",
    "\n",
    "En fonction du dicriminant, la formule sera légèrement différente : \\\n",
    "($1$) : $ x_1 = \\frac{- b - \\sqrt{\\Delta}}{2a} $ et $ x_2 = \\frac{- b + \\sqrt{\\Delta}}{2a} $ \\\n",
    "($2$) : $ x = \\frac{- b}{2a} $"
   ]
  },
  {
   "cell_type": "markdown",
   "id": "a973a04d",
   "metadata": {},
   "source": [
    "## Première partie"
   ]
  },
  {
   "cell_type": "markdown",
   "id": "6680131d",
   "metadata": {},
   "source": [
    "En sachant tout ça, calculer dans un premier temps le discriminant et la/les solutions du polynôme suivant :\n",
    "$$ - x^2 + 8x + 1 = 0 $$\n",
    "\n",
    "Etape par étape cela devrait suivre le cheminement suivant :\n",
    "- Attribution de chacun des 3 coefficients du polynôme à une lettre.\n",
    "- Calcul du discriminant.\n",
    "- Calcul de la ou des solutions en fonction du résultat précedant.\n",
    "- Présentation des résultats dans une cellule isolée en utilisant la fonction native `print`\n",
    "\n",
    "_Essayer de présenter vos cellules de la façon la plus claire possible, n'hésitez par à sauter des lignes et à faire des espaces entre les caractères..._"
   ]
  },
  {
   "cell_type": "code",
   "execution_count": null,
   "id": "65dcc730",
   "metadata": {},
   "outputs": [],
   "source": []
  },
  {
   "cell_type": "code",
   "execution_count": null,
   "id": "7938a213",
   "metadata": {},
   "outputs": [],
   "source": []
  },
  {
   "cell_type": "code",
   "execution_count": null,
   "id": "87418f6b",
   "metadata": {},
   "outputs": [],
   "source": []
  },
  {
   "cell_type": "code",
   "execution_count": null,
   "id": "c27fb6b3",
   "metadata": {},
   "outputs": [],
   "source": []
  },
  {
   "cell_type": "markdown",
   "id": "6f64a63c",
   "metadata": {},
   "source": [
    "## Deuxième partie"
   ]
  },
  {
   "cell_type": "markdown",
   "id": "d55533bf",
   "metadata": {},
   "source": [
    "J'aime bien automatiser les choses personnellement ! Je ne sais pas si nous l'avions vu ensemble, mais la fonction native `input()` permet d'ouvrir une zone dialogue à remplir. Une idée serait maintenant de l'utiliser afin que le notebook nous demande de renseigner les coefficient du polynôme de notre choix, et que notre mini-algo se chargera du reste !\n",
    "\n",
    "Etape par étape cela devrait suivre le cheminement suivant :\n",
    "- Trois lignes distinctes utilisant la fonction input pour qu'on renseigne les coefficients.\n",
    "- Calcul et affichage du discriminant.\n",
    "- Une ligne demandant à l'utilisateur de vérifier la nature du discriminant.\n",
    "- Calcul de la ou des solutions en fonction du résultat précedant.\n",
    "- Affichage des résultats dans une cellule isolée en utilisant la fonction native `print`\n",
    "\n",
    "_Pour cette partie, on vous demande de ne pas faire de fonction_"
   ]
  },
  {
   "cell_type": "code",
   "execution_count": null,
   "id": "92ae79fb",
   "metadata": {},
   "outputs": [],
   "source": []
  },
  {
   "cell_type": "markdown",
   "id": "497a9b01",
   "metadata": {},
   "source": [
    "## Troisième partie"
   ]
  },
  {
   "cell_type": "markdown",
   "id": "23ad2ed0",
   "metadata": {},
   "source": [
    "Dans cette troisième partie, l'objectif est d'aller encore plus vers l'automatisation en écrivant cette fois-ci une fonction qui prendra tout les cas en compte. Vous devez par conséquent n'avoir qu'à renseigner en argument de votre fonction les coefficients et elle se chargera du reste !"
   ]
  },
  {
   "cell_type": "code",
   "execution_count": null,
   "id": "023819a9",
   "metadata": {},
   "outputs": [],
   "source": []
  },
  {
   "cell_type": "code",
   "execution_count": null,
   "id": "d2788020",
   "metadata": {},
   "outputs": [],
   "source": []
  },
  {
   "cell_type": "markdown",
   "id": "048f645a",
   "metadata": {},
   "source": [
    "## Quatrième partie"
   ]
  },
  {
   "cell_type": "markdown",
   "id": "8e34c8df",
   "metadata": {},
   "source": [
    "En utilisant toujours la même fonction, nous allons à présent la représenter avec du style pour vous voire ou revoire les différentes fonctions de matplotlib.pyplot ! Vous devez donc représenter la fonction : $f(x)=-x^2+8x+1$. Vous avez ci-dessous des fonctions que vous pouvez utiliser pour enjoliver votre magnifique graphique :\n",
    "- plt.xlim(xmin = , xmax = )\n",
    "- plt.ylim(ymin = , ymax = )\n",
    "- plt.title( )\n",
    "- plt.xlabel( )\n",
    "- plt.ylabel( )\n",
    "- plt.show( )"
   ]
  },
  {
   "cell_type": "code",
   "execution_count": null,
   "id": "fb449493",
   "metadata": {},
   "outputs": [],
   "source": []
  },
  {
   "cell_type": "code",
   "execution_count": null,
   "id": "d365f1a1",
   "metadata": {},
   "outputs": [],
   "source": []
  },
  {
   "cell_type": "code",
   "execution_count": null,
   "id": "42d8a04c",
   "metadata": {},
   "outputs": [],
   "source": []
  },
  {
   "cell_type": "markdown",
   "id": "fc3cc071",
   "metadata": {},
   "source": [
    "#### Représentation des solutions sur le graphique"
   ]
  },
  {
   "cell_type": "markdown",
   "id": "651d1053",
   "metadata": {},
   "source": [
    "Nous avons tracé un graphique ! Oui mais continuons de nous **amuser** en ajouter les solutions directement sur le graphique, pour cela on utilisera les fonctions **hlines()** et **vlines()** de matplotlib. Essayer d'aller chercher la documentation associée pour connaître son fonctionnement ou partez à l'aventure !"
   ]
  },
  {
   "cell_type": "code",
   "execution_count": null,
   "id": "7c2cb309",
   "metadata": {},
   "outputs": [],
   "source": []
  }
 ],
 "metadata": {
  "kernelspec": {
   "display_name": "Python 3",
   "language": "python",
   "name": "python3"
  },
  "language_info": {
   "codemirror_mode": {
    "name": "ipython",
    "version": 3
   },
   "file_extension": ".py",
   "mimetype": "text/x-python",
   "name": "python",
   "nbconvert_exporter": "python",
   "pygments_lexer": "ipython3",
   "version": "3.11.8"
  }
 },
 "nbformat": 4,
 "nbformat_minor": 5
}
