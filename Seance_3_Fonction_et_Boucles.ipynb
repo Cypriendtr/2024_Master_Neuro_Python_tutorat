{
 "cells": [
  {
   "cell_type": "markdown",
   "metadata": {},
   "source": [
    "# **Séance 3 :** Fonctions et Boucles"
   ]
  },
  {
   "cell_type": "markdown",
   "metadata": {},
   "source": [
    "Pour rentrer dans le concret et pleinement commencer a exploiter les capacités du language python il faut passer par les fonctions et les boucles pour automatiser certaines commandes. Les boucles comme leur nom l'indique permet de repeter plusieurs actions et d'imposer des conditions. La fonction permet en analogie aux mathematiques de créer tout un déroulé de calcul avec des variables et récuperer un résultat. \n",
    "    \n",
    "Ces deux aspects se completent, nous pouvons venir executer dans une fonction plusieurs boucles, et inversement faire executer dans une boucle une ou plusieurs fonctions. \n",
    "    \n",
    "La notion peut paraitre abstraite, mais on va éclaircir ça ensemble. \n",
    "\n",
    "Les boucles se définissent avec plusieurs termes `if`, `elif`, `else` et `while`. Ces termes permettent de définir les differentes conditions des boucles. \n",
    "\n",
    "Le mot `if` renvoie à la condition **si**, le mot `elif` renvoie à l'idée de **sinon** et le terme `else` renvoie à **enfin**. Dans les boucles if on ne definie qu'une seule condition `if` et une seule condition `else`. \n",
    "Le `if` demarre la boucle le `else`la termine et entre les deux on peut choisir autant de condition `elif` que l'on veut. \n",
    "    \n",
    "Le mot `while`correspond à **tant que …** et définie une condition à remplir, la boucle continuera tant que la condition initiale n'est pas remplie."
   ]
  },
  {
   "cell_type": "markdown",
   "metadata": {},
   "source": [
    "### Les boucles `While` :"
   ]
  },
  {
   "cell_type": "code",
   "execution_count": 1,
   "metadata": {},
   "outputs": [
    {
     "name": "stdout",
     "output_type": "stream",
     "text": [
      "0\n",
      "1\n",
      "2\n",
      "3\n",
      "4\n",
      "5\n",
      "6\n",
      "7\n",
      "8\n",
      "9\n"
     ]
    }
   ],
   "source": [
    "a = 0\n",
    "while a < 10: \n",
    "    print(a)\n",
    "    a += 1\n",
    "# Ici la boucle while tourne tant que a est inferieur strictement à 10\n",
    "# On fait print dans la boucle sans oublier d'augmenter la valeur de a sinon la boucle tourne à l'infinie\n",
    "# On remarque que le dernier résultat est print est 9 et pas 10 puisque la fonction print intervient avant l'ajout de +1 à a\n",
    "# Après le print a + 1 = 10 est donc la condition while n'est plus respectée et la boucle se stop          "
   ]
  },
  {
   "cell_type": "code",
   "execution_count": 2,
   "metadata": {},
   "outputs": [
    {
     "name": "stdout",
     "output_type": "stream",
     "text": [
      "0 tout d'abord\n",
      "1\n",
      "2\n",
      "3\n",
      "4\n",
      "5 mi-chemin\n",
      "6\n",
      "7\n",
      "8\n",
      "9\n",
      "10 finii !\n"
     ]
    }
   ],
   "source": [
    "# Exemple possible\n",
    "i = 0\n",
    "while i < 11 :\n",
    "    if i == 0 :\n",
    "        print(i, \"tout d'abord\")\n",
    "    elif i == 5 :\n",
    "        print(i, \"mi-chemin\")\n",
    "    elif i == 10 :\n",
    "        print(i, \"finii !\")\n",
    "    else :\n",
    "        print(i)\n",
    "    i += 1"
   ]
  },
  {
   "cell_type": "markdown",
   "metadata": {},
   "source": [
    "Il existe un dernier type de boucle, les plus utilisées il sagit des boucles `for … in range…`"
   ]
  },
  {
   "cell_type": "code",
   "execution_count": 3,
   "metadata": {},
   "outputs": [
    {
     "name": "stdout",
     "output_type": "stream",
     "text": [
      "0\n",
      "1\n",
      "4\n",
      "9\n",
      "16\n"
     ]
    }
   ],
   "source": [
    "# Exemple possible\n",
    "for i in range(5): # Ici in range renvoie l'équivalent d'une liste [0,1,2,3,4], les 5 premiers entiers \n",
    "    print(i**2)"
   ]
  },
  {
   "cell_type": "code",
   "execution_count": 4,
   "metadata": {},
   "outputs": [
    {
     "name": "stdout",
     "output_type": "stream",
     "text": [
      "0\n",
      "2\n",
      "4\n",
      "6\n",
      "8\n",
      "10\n",
      "12\n",
      "14\n",
      "16\n",
      "18\n"
     ]
    }
   ],
   "source": [
    "for j in range (0, 20, 2): # La fonction range peut prendre plusieurs arguments, comme début, fin et pas \n",
    "    print(j)"
   ]
  },
  {
   "cell_type": "markdown",
   "metadata": {},
   "source": [
    "Maintenant pour les fonctions elles se créent avec la commande `def` suivie du nom de la fonction et des variables que la fonction doit prendre en compte en parenthèses. On ecrit donc <span style=\"color: #26B260\" >  **def** </span> <span style=\"color: #1338cf\" >  **nom_de_la_fonction (x)** </span>:\n",
    "    \n",
    "Pour faire appel à cette fonction on utilisera le nom donné lors de sa définition\n",
    "    \n",
    "il existe un autre moyen de définir une fonction asses simplement dans une ligne de code avec la commande `lambda`. Cela s'ecrit <span style=\"color: #26B260\" >  **lambda** </span> x : x**2. Si l'on souhiate par exemple faire une fonction elever au carré. "
   ]
  },
  {
   "cell_type": "code",
   "execution_count": 5,
   "metadata": {},
   "outputs": [
    {
     "name": "stdout",
     "output_type": "stream",
     "text": [
      "4\n"
     ]
    }
   ],
   "source": [
    "#Exemple possible\n",
    "def carré_func_1(x):\n",
    "    print(x**2) # Cette fonction permet de print le résultat dès qu'elle est exécutée\n",
    "\n",
    "carré_func_1(2)"
   ]
  },
  {
   "cell_type": "code",
   "execution_count": 6,
   "metadata": {},
   "outputs": [
    {
     "name": "stdout",
     "output_type": "stream",
     "text": [
      "4\n"
     ]
    }
   ],
   "source": [
    "def carré_func_2(x):\n",
    "    return x**2 # Cette fonction renvoie le résultat, et permet de le recuperer \n",
    "\n",
    "square  = carré_func_2(2)\n",
    "print(square) # Ici nous avons recuperé la sortie de la fonction, et nous pourrons pas exemple l'utiliser par la suite\n",
    "\n",
    "# C'est vraiment le plus pratique !!"
   ]
  },
  {
   "cell_type": "code",
   "execution_count": 7,
   "metadata": {},
   "outputs": [
    {
     "name": "stdout",
     "output_type": "stream",
     "text": [
      "4\n"
     ]
    }
   ],
   "source": [
    "# Ici c'est un exemple plus anecdotique mais permettant egalement de creer des fonctions. C'est certes plus compacte mais moins pratique \n",
    "carré_func_3 = lambda x : x**2\n",
    "\n",
    "print(carré_func_3(2))"
   ]
  },
  {
   "cell_type": "markdown",
   "metadata": {},
   "source": [
    "### Une usine a fonction :"
   ]
  },
  {
   "cell_type": "code",
   "execution_count": 8,
   "metadata": {},
   "outputs": [],
   "source": [
    "def usine_à_square():\n",
    "    \"\"\"\n",
    "    Generate a square function\n",
    "    \"\"\"\n",
    "\n",
    "    def func(x):\n",
    "        \"\"\"\n",
    "        Parameter\n",
    "        ----------\n",
    "        x   : Variable du polynome\n",
    "\n",
    "        Return \n",
    "        -----------\n",
    "        y   : The result of the polynomial calculus \n",
    "        \"\"\"\n",
    "        y = x**2\n",
    "        return y # func renvoie y -> x**2\n",
    "    \n",
    "    return func # Usine a square renvoie une fonction "
   ]
  },
  {
   "cell_type": "code",
   "execution_count": 9,
   "metadata": {},
   "outputs": [
    {
     "name": "stdout",
     "output_type": "stream",
     "text": [
      "<class 'function'>\n"
     ]
    }
   ],
   "source": [
    "Square_func = usine_à_square()\n",
    "print(type(Square_func)) # a est belle et bien une fonction qui prend comme argument \"x\""
   ]
  },
  {
   "cell_type": "code",
   "execution_count": 10,
   "metadata": {},
   "outputs": [
    {
     "data": {
      "text/plain": [
       "4"
      ]
     },
     "execution_count": 10,
     "metadata": {},
     "output_type": "execute_result"
    }
   ],
   "source": [
    "Square_func(2)"
   ]
  },
  {
   "cell_type": "markdown",
   "metadata": {},
   "source": [
    "#### Un contexte ou c'est utile :Equation du modele d'Hodgkin & Huxley. \n",
    "\n",
    "Dans le modèle de HH les parametres `n`, `m` et `h` décrivant la cinétique des courants dependent de deux équations $\\alpha$ et $\\beta$ de telle sorte que $$\\frac{dn}{dt} = {\\alpha}_{n}(V_m) \\times (1 - n) - {\\beta}_{n}(V_m)\\times n$$\n",
    "\n",
    "Ainsi si on souhaite modeliser un Neurone selon les équations de Hodgkin & Huxley, on doit implémenter chacune des équations $\\alpha$ et $\\beta$ pour pouvoir définier `n`, `m` et `h`. Les équations de $\\alpha$ et $\\beta$ sont les suivantes :\n",
    "\n",
    "For $n$ and $m$, the $\\alpha$ and $\\beta$ functions take the form:\n",
    "$$\\alpha(V) = \\alpha_p \\frac{V - V_t}{1 - e^{-(V-V_t) / \\sigma}}$$\n",
    "$$\\beta(V) = \\beta_p \\frac{V - V_t}{1 - e^{(V-V_t) / \\sigma}}$$\n",
    "\n",
    "For $h$, the functions are slightly different:\n",
    "$$\\alpha(V) = \\frac{1}{1 + e^{-(V-V_t) / \\sigma}}$$\n",
    "$$\\beta(V) = 4\\frac{e^{(V-V_t')/\\sigma'}}{1 + e^{-(V-V_t) / \\sigma}}$$\n",
    "\n",
    "On remarque assez facilement que ces équations ont une forme assez similaire avec simplement des constantes différentes, l'interet pour se faciliter leur définiton est de passer par des usines de fonction en Python, comme dans l'exemple ci dessous. "
   ]
  },
  {
   "cell_type": "code",
   "execution_count": 11,
   "metadata": {},
   "outputs": [],
   "source": [
    "import math as m # Nativement en Python il pas les fonctions simples de calcul tel que exponentiel, log, log10, cosinus …\n",
    "# Pour pouvoir les utiliser on doit faire appel à des modules extérieurs comme ici math ou des libraires comme numpy \n",
    "\n",
    "def alpha_func(sigma,VT,alpha_coef):\n",
    "    def func(V):\n",
    "        return alpha_coef*(V-VT)/(1-m.exp((-V+VT)/sigma))\n",
    "    return func\n",
    "\n",
    "def beta_func(sigma,VT,beta_coef):\n",
    "    def func(V):\n",
    "        return -beta_coef*(V-VT)/(1-m.exp((V-VT)/sigma))\n",
    "    return func\n",
    "\n",
    "def Alpha_h(sigma,VT,coef_h):\n",
    "    def func(V):\n",
    "        return coef_h*(m.exp((-V-VT)/sigma))\n",
    "    return func\n",
    "\n",
    "def Beta_h(sigma,Sigma,VT,V_t,coef_h):\n",
    "    def func(V):\n",
    "        return coef_h*(m.exp((V+V_t)/Sigma))/(1+m.exp((V+VT)/sigma))\n",
    "    return func"
   ]
  },
  {
   "cell_type": "markdown",
   "metadata": {},
   "source": [
    "### Corréction des exercies de la séance 3 :"
   ]
  },
  {
   "cell_type": "markdown",
   "metadata": {},
   "source": [
    "$$ \\large y = ax^{2} + bx + c$$"
   ]
  },
  {
   "cell_type": "code",
   "execution_count": 12,
   "metadata": {},
   "outputs": [],
   "source": [
    "# Une fonction simple \n",
    "def polynome_2nd(x):\n",
    "    # Constante\n",
    "    a = 2\n",
    "    b = 3\n",
    "    c = 1 \n",
    "\n",
    "    # Calculus \n",
    "    y = a*x**2 + b*x + c\n",
    "    \n",
    "    return y"
   ]
  },
  {
   "cell_type": "code",
   "execution_count": 13,
   "metadata": {},
   "outputs": [
    {
     "name": "stdout",
     "output_type": "stream",
     "text": [
      "45\n"
     ]
    }
   ],
   "source": [
    "resulat = polynome_2nd(4)\n",
    "print(resulat)"
   ]
  },
  {
   "cell_type": "code",
   "execution_count": 14,
   "metadata": {},
   "outputs": [],
   "source": [
    "# Une Usine à fonction polynome \n",
    "def Usine_a_polynome(a, b, c):\n",
    "    def func(x):\n",
    "        # Calculus \n",
    "        y = a*x**2 + b*x + c\n",
    "        return y\n",
    "    return func"
   ]
  },
  {
   "cell_type": "code",
   "execution_count": 15,
   "metadata": {},
   "outputs": [],
   "source": [
    "polynome_2nd_1 = Usine_a_polynome(a = 1, b = 3, c =4)\n",
    "\n",
    "polynome_2nd_2 = Usine_a_polynome(a = 3, b = 7, c =5)"
   ]
  },
  {
   "cell_type": "code",
   "execution_count": 16,
   "metadata": {},
   "outputs": [
    {
     "name": "stdout",
     "output_type": "stream",
     "text": [
      "Le resulat de poly1 est 44 alors que le resulat de poly2 est 115\n"
     ]
    }
   ],
   "source": [
    "resulat1 = polynome_2nd_1(5)\n",
    "\n",
    "resulat2 = polynome_2nd_2(5)\n",
    "\n",
    "print(f\"Le resulat de poly1 est {resulat1} alors que le resulat de poly2 est {resulat2}\")"
   ]
  },
  {
   "cell_type": "code",
   "execution_count": 17,
   "metadata": {},
   "outputs": [],
   "source": [
    "# Vérification si pair ou impair\n",
    "\n",
    "def pair_impair(nbr):\n",
    "    if nbr%2 == 0:\n",
    "        print(f\"Le nombre {nbr} est pair\")\n",
    "    else:\n",
    "        print(f\"Le nombre {nbr} est impair\")    "
   ]
  },
  {
   "cell_type": "code",
   "execution_count": 18,
   "metadata": {},
   "outputs": [
    {
     "name": "stdout",
     "output_type": "stream",
     "text": [
      "Le nombre 22 est pair\n",
      "Le nombre 35 est impair\n"
     ]
    }
   ],
   "source": [
    "nbr1 = 22\n",
    "nbr2 = 35\n",
    "\n",
    "pair_impair(nbr1)\n",
    "pair_impair(nbr2)"
   ]
  },
  {
   "cell_type": "code",
   "execution_count": 19,
   "metadata": {},
   "outputs": [],
   "source": [
    "def pair_impair_list(list_nbr):\n",
    "    pair = []\n",
    "    impair = []\n",
    "    for i in list_nbr:\n",
    "        if i%2 == 0:\n",
    "            pair.append(i)\n",
    "        \n",
    "        else: impair.append(i)\n",
    "    return pair, impair"
   ]
  },
  {
   "cell_type": "code",
   "execution_count": 20,
   "metadata": {},
   "outputs": [],
   "source": [
    "maliste = [1 ,2 ,16 ,2 ,15 ,35 ,7 ,22 ,9 ,12]"
   ]
  },
  {
   "cell_type": "code",
   "execution_count": 21,
   "metadata": {},
   "outputs": [
    {
     "name": "stdout",
     "output_type": "stream",
     "text": [
      "La liste des nombres pairs est [2, 16, 2, 22, 12] et la liste des nombres impairs est [1, 15, 35, 7, 9]\n"
     ]
    }
   ],
   "source": [
    "pair, impair = pair_impair_list(maliste)\n",
    "print(f\"La liste des nombres pairs est {pair} et la liste des nombres impairs est {impair}\")\n",
    "\n",
    "# Et voila tout marche nickel ! "
   ]
  }
 ],
 "metadata": {
  "kernelspec": {
   "display_name": "base",
   "language": "python",
   "name": "python3"
  },
  "language_info": {
   "codemirror_mode": {
    "name": "ipython",
    "version": 3
   },
   "file_extension": ".py",
   "mimetype": "text/x-python",
   "name": "python",
   "nbconvert_exporter": "python",
   "pygments_lexer": "ipython3",
   "version": "3.9.16"
  },
  "orig_nbformat": 4
 },
 "nbformat": 4,
 "nbformat_minor": 2
}
