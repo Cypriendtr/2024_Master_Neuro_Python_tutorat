{
 "cells": [
  {
   "cell_type": "markdown",
   "id": "4aeec692",
   "metadata": {},
   "source": [
    "## Séances 6 : Bibliothèques SymPy et Scipy"
   ]
  },
  {
   "cell_type": "markdown",
   "id": "2dbed184",
   "metadata": {},
   "source": [
    "<span style= font-size:16px> Maintenant que nous avons vu les bibliothèques classiques **Numpy** et **Matplotlib** nous allons en voir deux nouvelles plus spécifiques aux calculs. Verifiez que ces deux bibliothèques sont bien installés dans vos applications Anaconda et importez les dans ce terminale comme nous en avons l'habitude. "
   ]
  },
  {
   "cell_type": "code",
   "execution_count": 1,
   "id": "072c43b1",
   "metadata": {},
   "outputs": [],
   "source": [
    "#importer les modules sympy et scipy \n",
    "import scipy as sc\n",
    "import sympy as sp\n",
    "import numpy as np\n",
    "import matplotlib.pyplot as plt"
   ]
  },
  {
   "cell_type": "markdown",
   "id": "eb4cd8b0",
   "metadata": {},
   "source": [
    "<span style= font-size:16px>Le premier module que nous allons utiliser est le module **`sympy`**. Cette bibliotheque permet de faire du calcul Symbolique et surtout trés precis mathematiquement. Cette bibliotheque permet egalement de faire du calcul matriciel, de calculer des dérivés et integrale et plein d'autres merveilles que nous aurons l'occasion de voir par la suite. "
   ]
  },
  {
   "cell_type": "markdown",
   "id": "e7bb84a7",
   "metadata": {},
   "source": [
    "<span style= font-size:16px>Commencons par le début faites les calculs suivant à la fois avec sympy et le module math. \n",
    "    $$\\large1.\\;\\sqrt{4}$$ \n",
    "    $$\\large2.\\;\\sqrt{2}$$ \n",
    "    $$\\large3.\\;\\sqrt{8}$$\n",
    "    $$\\large$$\n",
    "    $$\\large4.\\;\\;e^4*e^3$$"
   ]
  },
  {
   "cell_type": "code",
   "execution_count": null,
   "id": "b28cd6dc",
   "metadata": {},
   "outputs": [],
   "source": []
  },
  {
   "cell_type": "code",
   "execution_count": null,
   "id": "6f71b2c4",
   "metadata": {},
   "outputs": [],
   "source": []
  },
  {
   "cell_type": "code",
   "execution_count": null,
   "id": "54618aef",
   "metadata": {},
   "outputs": [],
   "source": []
  },
  {
   "cell_type": "code",
   "execution_count": null,
   "id": "2d238e62",
   "metadata": {},
   "outputs": [],
   "source": []
  },
  {
   "cell_type": "markdown",
   "id": "a26b0f57",
   "metadata": {},
   "source": [
    "<span style= font-size:16px> Maintenant que nous avons compris ce que signifie cette notion de calcul Symbolique, regardons le vrai interet de **`Sympy`**.\n"
   ]
  },
  {
   "cell_type": "code",
   "execution_count": null,
   "id": "a1743d9f",
   "metadata": {},
   "outputs": [],
   "source": []
  },
  {
   "cell_type": "code",
   "execution_count": null,
   "id": "a6c953a2",
   "metadata": {},
   "outputs": [],
   "source": []
  },
  {
   "cell_type": "markdown",
   "id": "40b25b66",
   "metadata": {},
   "source": [
    "<span style= font-size:16px>trouver les integrales des fonctions suivantes:\n",
    "        $$\\large-\\frac{d[A]}{dt}=k$$\n",
    "    $$\\large-\\frac{d[A]}{dt}=k[A]$$"
   ]
  },
  {
   "cell_type": "code",
   "execution_count": null,
   "id": "440d0dda",
   "metadata": {},
   "outputs": [],
   "source": []
  },
  {
   "cell_type": "code",
   "execution_count": null,
   "id": "34625666",
   "metadata": {},
   "outputs": [],
   "source": []
  }
 ],
 "metadata": {
  "kernelspec": {
   "display_name": "Python 3 (ipykernel)",
   "language": "python",
   "name": "python3"
  },
  "language_info": {
   "codemirror_mode": {
    "name": "ipython",
    "version": 3
   },
   "file_extension": ".py",
   "mimetype": "text/x-python",
   "name": "python",
   "nbconvert_exporter": "python",
   "pygments_lexer": "ipython3",
   "version": "3.9.7"
  }
 },
 "nbformat": 4,
 "nbformat_minor": 5
}
